{
 "cells": [
  {
   "cell_type": "markdown",
   "metadata": {},
   "source": [
    "# Files"
   ]
  },
  {
   "cell_type": "markdown",
   "metadata": {},
   "source": [
    "This Topic will cover\n",
    "- opening files in different modes\n",
    "- reading and writing to files \n",
    "- using different file formats\n",
    "\n",
    "I will cover ``pandas`` in a later topic. Pandas is very useful for reading and writing to excel files and manipulating data in a table format"
   ]
  },
  {
   "cell_type": "markdown",
   "metadata": {},
   "source": [
    "##### Before we start:\n",
    "You can run a shell command in a notebook using !\n",
    "so to see what is in this directory in windows ``!dir`` in mac or linux ``!ls``\n",
    "\n",
    "There is also a \"magic command ``%ls`` that will work on all OS (``%pwd`` will show the present working directory)"
   ]
  },
  {
   "cell_type": "code",
   "execution_count": 1,
   "metadata": {},
   "outputs": [
    {
     "name": "stderr",
     "output_type": "stream",
     "text": [
      "'ls' is not recognized as an internal or external command,\n",
      "operable program or batch file.\n"
     ]
    }
   ],
   "source": [
    "!ls # this does not run on my windows machine"
   ]
  },
  {
   "cell_type": "code",
   "execution_count": 28,
   "metadata": {
    "scrolled": true
   },
   "outputs": [
    {
     "name": "stdout",
     "output_type": "stream",
     "text": [
      " Volume in drive C is OS\n",
      " Volume Serial Number is FC43-C010\n",
      "\n",
      " Directory of C:\\Users\\ABeatty\\OneDrive - Atlantic TU\\pands-course-material\\jupyternotebooks\n",
      "\n",
      "04/03/2024  15:55    <DIR>          .\n",
      "05/02/2024  16:45    <DIR>          ..\n",
      "04/03/2024  15:49    <DIR>          .ipynb_checkpoints\n",
      "04/03/2024  15:53                62 data.csv\n",
      "20/02/2024  13:32    <DIR>          fig\n",
      "04/03/2024  15:49                37 storeData.json\n",
      "04/03/2024  15:49                12 test.txt\n",
      "04/03/2024  15:55            21,885 topic03-variables.ipynb\n",
      "04/03/2024  15:56            11,385 topic04-controlling the flow.ipynb\n",
      "04/03/2024  15:57            24,064 topic05-data structures.ipynb\n",
      "04/03/2024  15:57            31,794 topic06-Functions.ipynb\n",
      "04/03/2024  15:55            21,242 topic07-files.ipynb\n",
      "               8 File(s)        110,481 bytes\n",
      "               4 Dir(s)  111,029,784,576 bytes free\n"
     ]
    }
   ],
   "source": [
    "# this will run on all os including my windows machine\n",
    "%ls"
   ]
  },
  {
   "cell_type": "markdown",
   "metadata": {},
   "source": [
    "## Opening files and manipulating files\n",
    "\n",
    "Files should be opened with the ``with open( filename, mode) as f: `` command\n"
   ]
  },
  {
   "cell_type": "code",
   "execution_count": 4,
   "metadata": {},
   "outputs": [
    {
     "name": "stdout",
     "output_type": "stream",
     "text": [
      "hello world\n"
     ]
    }
   ],
   "source": [
    "FILENAME = \"test.txt\"\n",
    "with open(FILENAME) as f:\n",
    "    str =  f.read()\n",
    "    print (str)"
   ]
  },
  {
   "cell_type": "markdown",
   "metadata": {},
   "source": [
    "This will open a file called test.txt for reading (it will throw an error if the file does not exist).\n",
    "You can see I ran this after the opening the file in write mode below"
   ]
  },
  {
   "cell_type": "markdown",
   "metadata": {},
   "source": [
    "##### Opening a file in write mode (this will create the file)\n",
    "For example open a text file for writing (if you run this file it will create a file in the same directory as the notebook, you can run the dir/ls command above again and see if test.txt is there, before and after you run the ``open()`` )"
   ]
  },
  {
   "cell_type": "code",
   "execution_count": 12,
   "metadata": {},
   "outputs": [],
   "source": [
    "FILENAME = \"test.txt\"\n",
    "with open(FILENAME, 'wt') as f:\n",
    "    f.write(\"hello world2\")"
   ]
  },
  {
   "cell_type": "markdown",
   "metadata": {},
   "source": [
    "This will take care of closing the file once the focus leaves the code block, even if an error occurs.\n",
    "\n",
    "##### The old way (you may see this in some sample code on the internet)\n",
    "The old was of just using the ``open()`` function is not advised\n",
    "\n",
    "```\n",
    "f = open(FILENAME, 'wt')\n",
    "f.write(\"hello World\")\n",
    "f.close()\n",
    "```\n",
    "While the code above looks like it does the same as the ``with`` pattern, the file will not be closed if the ``f.write`` throws an error"
   ]
  },
  {
   "cell_type": "markdown",
   "metadata": {},
   "source": [
    "### The various modes in open()\n",
    "The default mode when you open a file is read (which will throw an error if the file does not exist)\n",
    "But you can open the file in other modes if you wish (eg say you want the file to be created or not)\n",
    "\n",
    "#### Mode\n",
    "| Mode | Description |\n",
    "|---:|:---|\n",
    "| 'a' | Writes will append to an existing file (throws an error if the file does not exist |\n",
    "| 'r' | Read mode, can not write, (throws and error if the file does not exist |\n",
    "| 'r+' | Read and write to existing file (throws an error if the file does not exist |\n",
    "| 'w' | Write mode (no read) and create the file, this will delete the file if it already exists |\n",
    "| 'w+'| write and read and create the file, deleteing the old one |\n",
    "| 'x' | create the file, this will throw an error if the file already exists|\n",
    "\n",
    "#### type of file\n",
    "| letter | type of file |\n",
    "|---:|:---|\n",
    "| 't' | Text file |\n",
    "| 'b' | File with binary data (eg jpeg)\n",
    "\n",
    "\n"
   ]
  },
  {
   "cell_type": "markdown",
   "metadata": {},
   "source": [
    "\n",
    "### Functions for file manipulation\n",
    "\n",
    "Once you have opened a file you can use the functions to read and write to the file (depending on the mode)\n",
    "\n",
    "| Function | Description |\n",
    "| ---------------: | :----------------------------- |\n",
    "| ``read()`` | Reads from the file, the amount of characters depends on the buffer size \n",
    "| ``readline()`` | Reads the next line from the file, returns blank if the end of file is reached, be aware that the string that this returns will have a \\n new line character in it \n",
    "| ``readlines()`` | Returns all the lines as a list \n",
    "| ``for l in f:`` | Or you can use this pattern to loop through all the lines of a file \n",
    "| ``write(data)`` | Writes data to the file \n",
    "| ``print(data, file = f)`` | Or you can use the print function\n",
    "| ``seek(offset)`` | Will move the file pointer along the file by offset number of bytes \n",
    "\n",
    "More information in the python documentation https://docs.python.org/3/library/functions.html#open\n",
    "\n",
    "Which of these functions you can call is dependant on what mode the file is opened in"
   ]
  },
  {
   "cell_type": "markdown",
   "metadata": {},
   "source": [
    "### Some examples\n",
    "\n",
    "Open the text file we created above and output its contents. It is a good idea to speciify whether the file is text or binary "
   ]
  },
  {
   "cell_type": "code",
   "execution_count": 6,
   "metadata": {},
   "outputs": [
    {
     "name": "stdout",
     "output_type": "stream",
     "text": [
      "hello world2\n"
     ]
    }
   ],
   "source": [
    "with open('test.txt', 'rt') as f:\n",
    "    for line in f: # read each line, one at a time\n",
    "        print (line)\n",
    "    "
   ]
  },
  {
   "cell_type": "markdown",
   "metadata": {},
   "source": [
    "Try to open a file that does not exist in read write mode. (This throws an error"
   ]
  },
  {
   "cell_type": "code",
   "execution_count": 7,
   "metadata": {},
   "outputs": [
    {
     "ename": "FileNotFoundError",
     "evalue": "[Errno 2] No such file or directory: 'nofileofthisname.txt'",
     "output_type": "error",
     "traceback": [
      "\u001b[1;31m---------------------------------------------------------------------------\u001b[0m",
      "\u001b[1;31mFileNotFoundError\u001b[0m                         Traceback (most recent call last)",
      "\u001b[1;32m~\\AppData\\Local\\Temp/ipykernel_19972/992447577.py\u001b[0m in \u001b[0;36m<module>\u001b[1;34m\u001b[0m\n\u001b[1;32m----> 1\u001b[1;33m \u001b[1;32mwith\u001b[0m \u001b[0mopen\u001b[0m\u001b[1;33m(\u001b[0m\u001b[1;34m'nofileofthisname.txt'\u001b[0m\u001b[1;33m,\u001b[0m \u001b[1;34m'r+t'\u001b[0m\u001b[1;33m)\u001b[0m \u001b[1;32mas\u001b[0m \u001b[0mf\u001b[0m\u001b[1;33m:\u001b[0m\u001b[1;33m\u001b[0m\u001b[1;33m\u001b[0m\u001b[0m\n\u001b[0m\u001b[0;32m      2\u001b[0m     \u001b[0mprint\u001b[0m \u001b[1;33m(\u001b[0m\u001b[0mf\u001b[0m\u001b[1;33m.\u001b[0m\u001b[0mread\u001b[0m\u001b[1;33m(\u001b[0m\u001b[1;33m)\u001b[0m\u001b[1;33m)\u001b[0m\u001b[1;33m\u001b[0m\u001b[1;33m\u001b[0m\u001b[0m\n",
      "\u001b[1;31mFileNotFoundError\u001b[0m: [Errno 2] No such file or directory: 'nofileofthisname.txt'"
     ]
    }
   ],
   "source": [
    "with open('nofileofthisname.txt', 'r+t') as f:\n",
    "    print (f.read())"
   ]
  },
  {
   "cell_type": "markdown",
   "metadata": {},
   "source": [
    "Lets over write the file we created, and see its new contents (it will be empty)"
   ]
  },
  {
   "cell_type": "code",
   "execution_count": 11,
   "metadata": {},
   "outputs": [
    {
     "name": "stdout",
     "output_type": "stream",
     "text": [
      "The file is now empty\n"
     ]
    }
   ],
   "source": [
    "with open('test.txt', 'w+t') as f:\n",
    "    for line in f:\n",
    "        print (line)\n",
    "    print (\"The file is now empty\")"
   ]
  },
  {
   "cell_type": "markdown",
   "metadata": {},
   "source": [
    "## The ``os`` module\n",
    "\n",
    "The ``os`` module is a built in module for Miscellaneous operating system interfaces.\n",
    "It  can be used for manipulating the file system, there are a lot of functions in it I will be only looking at a few. See references below\n",
    "\n",
    "### Deleting a file\n",
    "Use the os module and its ``remove()`` function.\n"
   ]
  },
  {
   "cell_type": "code",
   "execution_count": 9,
   "metadata": {},
   "outputs": [],
   "source": [
    "import os\n",
    "os.remove('test.txt')  # this will remove the test.txt file"
   ]
  },
  {
   "cell_type": "markdown",
   "metadata": {},
   "source": [
    "For directories use the ``rmdir()`` function (only on empty directories)\n",
    "```\n",
    "import os\n",
    "os.rmdir('directory_name') # removes an empty directory\n",
    "```"
   ]
  },
  {
   "cell_type": "markdown",
   "metadata": {},
   "source": [
    "### To check if a file exists \n",
    "use ``os.path.exists()``"
   ]
  },
  {
   "cell_type": "code",
   "execution_count": 10,
   "metadata": {},
   "outputs": [
    {
     "name": "stdout",
     "output_type": "stream",
     "text": [
      "test.txt does not exist do you want to create it?\n"
     ]
    }
   ],
   "source": [
    "# I am assuming that os is already imported\n",
    "filename = 'test.txt'\n",
    "if os.path.exists(filename):\n",
    "    print (filename, \"already exists\")\n",
    "else:\n",
    "    print(filename, \"does not exist do you want to create it?\")\n",
    "    "
   ]
  },
  {
   "cell_type": "markdown",
   "metadata": {},
   "source": [
    "More on this in realpython and the python documentation on ``os``"
   ]
  },
  {
   "cell_type": "markdown",
   "metadata": {},
   "source": [
    "## File Formats\n",
    "Files can have different format, Here are a few examples of different formats\n",
    "\n",
    "| Format | Description | Example |\n",
    "| --- | :--- | :--- |\n",
    "| text | Simple text format, easy for a human to read, not easy to parse the data from | The rain in spain falls mainly in the plain|\n",
    "| JSON | JavaScript Object Notation, very useful for passing and storing dictionary object | {\"weather\": {\"area\":\"spainish plain\", \"forcast\": \"rain\"}} |\n",
    "| CSV | comma seperated variables, useful for storing tables of data | spain, plain , rain |\n",
    "| TSV | Tab seperated variables same as CSV except with TABS | |\n",
    "| Pickle | A binary file format used for storing Python Objects (variables and functions | hard to read by humans |\n",
    "| XML | Extended markup language, used for storing data | ```<weather> <area> spainish plain </area> <forcast> rain </forcast> </weather>``` |\n",
    "| XSL | excel spreadsheet, this is in a binary fomat| hard to read by humans |\n",
    "\n",
    "There are many more formats.\n",
    "Python has packages (modules) that are designed to help you manipulate files in different formast eg\n",
    "\n",
    "`` import csv ``: For maniputating CSV and TSV files\n",
    "\n",
    "`` import json `` : For maniputating JSON files\n",
    "\n",
    "`` import pandas``: For excel spreadsheets and SQL database tables, this is very handy for data analysis, see week 10\n",
    "\n",
    "There are of course many more\n"
   ]
  },
  {
   "cell_type": "markdown",
   "metadata": {},
   "source": [
    "### JSON \n",
    "**Java Script Object Notation**\n",
    "The format of JSON looks very like a Dict object, except it always has ``\"`` (double quotes) instead of ``'`` (single quotes)\n",
    "eg\n",
    "````\n",
    "{\n",
    "    \"name\" : \"Andrew\",\n",
    "    \"modules\":[\n",
    "        {\"subject\": \"Math\", \"grade\": 77},\n",
    "        {\"subject\": \"PANDS\", \"grade\": 46}\n",
    "    ]\n",
    "    \n",
    "}\n",
    "````\n",
    "|  | |  |\n",
    "| :--- | :---: | :--- |\n",
    "| Strings | have | ````\"\"````|\n",
    "| Integers | have | no quotes |\n",
    "| Objects | have | ````{}```` |\n",
    "| Lists | have | ```[]``` |\n",
    "\n",
    "\n",
    "There is a molule called ``json`` that helps with manipulation (it comes with anaconda)\n",
    "``dump()`` saves a dict as JSON into a file\n",
    "``load()`` reads JSON from a file and returns a Dict object\n",
    "\n",
    "Here are two scripts\n",
    "1. Saves a dict object to a file called storeData.json, Note: we open the file in write mode so the file will be created or overwriten each time we save\n",
    "2. reads the file and prints some of the data\n",
    "navigate to this directory and see what is in the storeData.json\n",
    "\n",
    "see references for more information on the JSON module"
   ]
  },
  {
   "cell_type": "code",
   "execution_count": 13,
   "metadata": {},
   "outputs": [],
   "source": [
    "import json\n",
    "\n",
    "electricBill = {\n",
    "    'name' : 'Andrew',\n",
    "    'amount' : '99999'\n",
    "}\n",
    "\n",
    "with open(\"storeData.json\", \"wt\") as f:\n",
    "    json.dump(electricBill, f) # writes the dictionary object to the file as a JSON object\n",
    "\n"
   ]
  },
  {
   "cell_type": "code",
   "execution_count": 24,
   "metadata": {},
   "outputs": [
    {
     "name": "stdout",
     "output_type": "stream",
     "text": [
      "{\"name\": \"Andrew\", \"amount\": \"99999\"}"
     ]
    }
   ],
   "source": [
    "FILENAME=\"storeData.json\"\n",
    "with open(FILENAME, \"rt\") as file:\n",
    "    for line in file:\n",
    "        print (line, end='')"
   ]
  },
  {
   "cell_type": "code",
   "execution_count": 19,
   "metadata": {},
   "outputs": [
    {
     "name": "stdout",
     "output_type": "stream",
     "text": [
      "99999\n"
     ]
    }
   ],
   "source": [
    "# I am assuming that json has already been imported\n",
    "\n",
    "# assuming theat the file storedata exists and contains json\n",
    "with open(\"storeData.json\", \"rt\") as f:\n",
    "    readDict = json.load(f) # reads the file and converts the JSON object into a list of dictionary \n",
    "    print (readDict[\"amount\"])"
   ]
  },
  {
   "cell_type": "markdown",
   "metadata": {},
   "source": [
    "The docs on the Json module https://docs.python.org/3/library/json.html"
   ]
  },
  {
   "cell_type": "markdown",
   "metadata": {},
   "source": [
    "### CSV \n",
    "These are a little more basic, hence complicated to manipulate.\n",
    "\n",
    "**Comma Separated Variables** (Could also be tab seperted or any other delimiter)\n",
    "ie it is a file that has data like this\n",
    "```\n",
    "first, last, age\n",
    "Andrew, Beatty, 21\n",
    "Mary, Jones, 33\n",
    "john, McGuire, 44\n",
    "```\n",
    "one way to extract this data is to user the CSV module (it comes with anaconda)\n",
    "\n",
    "\n",
    "##### Reading\n",
    "use csv.reader (the default delimiter is , (comma)\n",
    "when you use the file line in reader pattern, \n",
    "line will contain a list of the variables on each line"
   ]
  },
  {
   "cell_type": "code",
   "execution_count": 23,
   "metadata": {},
   "outputs": [
    {
     "name": "stdout",
     "output_type": "stream",
     "text": [
      "first,last,age\n",
      "Andrew,Beatty,2\n",
      "joe,Bloggs,22\n",
      "Mary,mc,2222\n"
     ]
    }
   ],
   "source": [
    "FILENAME=\"data.csv\"\n",
    "with open(FILENAME, \"rt\") as file:\n",
    "    for line in file:\n",
    "        print (line, end='')"
   ]
  },
  {
   "cell_type": "code",
   "execution_count": 21,
   "metadata": {},
   "outputs": [
    {
     "name": "stdout",
     "output_type": "stream",
     "text": [
      "age\n",
      "2\n",
      "22\n",
      "2222\n"
     ]
    }
   ],
   "source": [
    "import csv\n",
    "FILENAME=\"data.csv\"\n",
    "with open(FILENAME, \"rt\") as file:\n",
    "    csvReader = csv.reader(file, delimiter = ',') # delimiter can be anything, in this case a comma\n",
    "    for line in csvReader: # line will be a list containing the variables in each line\n",
    "        age = line[2]   # the age\n",
    "        print(age)      # note this is printing the header row, I provide a solution to this in the tutorial"
   ]
  },
  {
   "cell_type": "markdown",
   "metadata": {},
   "source": [
    "##### Writing\n",
    "Writing a CSV can be a little more complicated, \n",
    "the CSV module can take dictionaries, list of lists and other formats\n",
    "I think I will do more of this in later weeks\n",
    "\n",
    "NOTE: the newline='' fixes an issue in windows where an extra carrage return is put in at the end of each row\n",
    "ie a blank line"
   ]
  },
  {
   "cell_type": "code",
   "execution_count": 26,
   "metadata": {},
   "outputs": [
    {
     "name": "stdout",
     "output_type": "stream",
     "text": [
      "{'first': 'Andrew', 'last': 'Beatty', 'age': '2'}\n",
      "{'first': 'joe', 'last': 'Bloggs', 'age': '22'}\n",
      "{'first': 'Mary', 'last': 'mc', 'age': '2222'}\n"
     ]
    }
   ],
   "source": [
    "mydict =[{'first': 'Andrew', 'last': 'Beatty', 'age':'2'},\n",
    "         {'first': 'joe', 'last': 'Bloggs', 'age':'22'},\n",
    "         {'first': 'Mary', 'last': 'mc', 'age':'2222'} \n",
    "        ] \n",
    "    \n",
    "# field names \n",
    "fields = ['first', 'last', 'age'] \n",
    "    \n",
    "# name of csv file \n",
    "FILENAME = \"data.csv\"\n",
    "    \n",
    "# writing to csv file \n",
    "with open(FILENAME, 'w', newline='') as csvfile: \n",
    "    # creating a csv dict writer object \n",
    "    writer = csv.DictWriter(csvfile, fieldnames = fields) \n",
    "        \n",
    "    # writing headers (field names) \n",
    "    writer.writeheader() \n",
    "    for dictrow in mydict:\n",
    "        print(dictrow)\n",
    "        writer.writerow(dictrow) "
   ]
  },
  {
   "cell_type": "markdown",
   "metadata": {},
   "source": [
    "There is much more on this, but that for future weeks\n",
    "I have made a tutorial video, showing how you could extract an email domain from a list of email addresses stored in a csv file, see VLE"
   ]
  },
  {
   "cell_type": "markdown",
   "metadata": {},
   "source": [
    "### References\n",
    "\n",
    "- W3schools on files : https://www.w3schools.com/python/python_file_handling.asp\n",
    "- realpython on file manipulation and the OS module: https://realpython.com/working-with-files-in-python/\n",
    "- python documentation : https://docs.python.org/3/library/os.html#files-and-directories\n",
    "- JSON Module: https://docs.python.org/3/library/json.html\n",
    "- JSON Tutorial in real python: https://realpython.com/python-json/\n",
    "- CSV Module: https://docs.python.org/3/library/csv.html\n",
    "- CSV Tutorial in Real Python: https://realpython.com/python-csv/\n"
   ]
  }
 ],
 "metadata": {
  "anaconda-cloud": {},
  "kernelspec": {
   "display_name": "Python 3 (ipykernel)",
   "language": "python",
   "name": "python3"
  },
  "language_info": {
   "codemirror_mode": {
    "name": "ipython",
    "version": 3
   },
   "file_extension": ".py",
   "mimetype": "text/x-python",
   "name": "python",
   "nbconvert_exporter": "python",
   "pygments_lexer": "ipython3",
   "version": "3.9.7"
  }
 },
 "nbformat": 4,
 "nbformat_minor": 1
}
