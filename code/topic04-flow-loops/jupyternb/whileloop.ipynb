{
 "cells": [
  {
   "cell_type": "markdown",
   "metadata": {},
   "source": [
    "# While Loops in Python\n",
    "While loops are a type of loop in Python that allow you to repeatedly execute a block of code as long as a specified condition is true. The loop will continue to run until the condition becomes false.\n",
    "\n",
    "The syntax for a while loop is:"
   ]
  },
  {
   "cell_type": "code",
   "execution_count": null,
   "metadata": {},
   "outputs": [],
   "source": [
    "while condition:\n",
    "    # code to be executed"
   ]
  },
  {
   "cell_type": "markdown",
   "metadata": {},
   "source": [
    "The condition in the while loop is a boolean expression that is evaluated before each iteration of the loop. If the condition is True, the code inside the loop will be executed. If the condition is False, the loop will exit and the code following the loop will be executed.\n",
    "\n",
    "Here is an example of how a while loop can be used to print out the numbers 1 to 5:"
   ]
  },
  {
   "cell_type": "code",
   "execution_count": null,
   "metadata": {},
   "outputs": [],
   "source": [
    "# initialize the counter\n",
    "counter = 1\n",
    "\n",
    "# while loop\n",
    "while counter <= 5:\n",
    "    print(counter)\n",
    "    counter = counter + 1"
   ]
  },
  {
   "cell_type": "markdown",
   "metadata": {},
   "source": [
    "Make sure that the condition in the while loop will eventually evaluate to False, otherwise the loop will continue to run forever, an infinite loop.\n",
    " \n",
    "For example, the following code will run forever:"
   ]
  },
  {
   "cell_type": "code",
   "execution_count": null,
   "metadata": {},
   "outputs": [],
   "source": [
    "while True:\n",
    "    print(\"This is an infinite loop.\")"
   ]
  },
  {
   "cell_type": "markdown",
   "metadata": {},
   "source": [
    " The break statement is used to exit a loop prematurely, regardless of the value of the condition. \n",
    "\n",
    "For example:"
   ]
  },
  {
   "cell_type": "code",
   "execution_count": 1,
   "metadata": {},
   "outputs": [
    {
     "name": "stdout",
     "output_type": "stream",
     "text": [
      "1\n",
      "2\n",
      "3\n",
      "4\n",
      "5\n"
     ]
    }
   ],
   "source": [
    "# initialize the counter\n",
    "counter = 1\n",
    "\n",
    "# while loop\n",
    "while True:\n",
    "    if counter > 5:\n",
    "        break\n",
    "    print(counter)\n",
    "    counter = counter + 1"
   ]
  },
  {
   "cell_type": "markdown",
   "metadata": {},
   "source": [
    "You can also use the continue statement to skip the current iteration of the loop and proceed to the next iteration. The continue statement is used to skip the current iteration of the loop, based on a specified condition. \n",
    "\n",
    "For example:"
   ]
  },
  {
   "cell_type": "code",
   "execution_count": null,
   "metadata": {},
   "outputs": [],
   "source": [
    "# initialize the counter\n",
    "counter = 1\n",
    "\n",
    "# while loop\n",
    "while counter <= 5:\n",
    "    if counter % 2 == 0:\n",
    "        counter = counter + 1\n",
    "        continue\n",
    "    print(counter)\n",
    "    counter = counter + 1\n"
   ]
  },
  {
   "cell_type": "markdown",
   "metadata": {},
   "source": [
    "In summary, \n",
    "- Make sure to avoid infinite loops\n",
    "- There are two types of while loops (counter controlled and sentinel controlled)\n",
    "- break exits a loop early\n",
    "- continue finishes a current loop, but goes back to the condition"
   ]
  }
 ],
 "metadata": {
  "interpreter": {
   "hash": "a1e06ec838b4d419bab8ed87a587e3b117a35da2a6ca249d69db332f398372be"
  },
  "kernelspec": {
   "display_name": "Python 3.9.12 ('base')",
   "language": "python",
   "name": "python3"
  },
  "language_info": {
   "codemirror_mode": {
    "name": "ipython",
    "version": 3
   },
   "file_extension": ".py",
   "mimetype": "text/x-python",
   "name": "python",
   "nbconvert_exporter": "python",
   "pygments_lexer": "ipython3",
   "version": "3.9.12"
  },
  "orig_nbformat": 4
 },
 "nbformat": 4,
 "nbformat_minor": 2
}
